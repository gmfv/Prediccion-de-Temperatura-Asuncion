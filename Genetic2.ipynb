{
  "nbformat": 4,
  "nbformat_minor": 0,
  "metadata": {
    "colab": {
      "name": "Genetic2.ipynb",
      "provenance": [],
      "authorship_tag": "ABX9TyPBdxwb9Hly4KZawft2rOJp",
      "include_colab_link": true
    },
    "kernelspec": {
      "name": "python3",
      "display_name": "Python 3"
    },
    "language_info": {
      "name": "python"
    }
  },
  "cells": [
    {
      "cell_type": "markdown",
      "metadata": {
        "id": "view-in-github",
        "colab_type": "text"
      },
      "source": [
        "<a href=\"https://colab.research.google.com/github/gmfv/Prediccion_Temperatura_IA/blob/main/Genetic2.ipynb\" target=\"_parent\"><img src=\"https://colab.research.google.com/assets/colab-badge.svg\" alt=\"Open In Colab\"/></a>"
      ]
    },
    {
      "cell_type": "code",
      "metadata": {
        "colab": {
          "base_uri": "https://localhost:8080/"
        },
        "id": "bHmgvuUfKqp0",
        "outputId": "a9e73d76-7a4c-4272-852d-f53c1ecbe586"
      },
      "source": [
        "!pip install deap"
      ],
      "execution_count": 1,
      "outputs": [
        {
          "output_type": "stream",
          "text": [
            "Collecting deap\n",
            "\u001b[?25l  Downloading https://files.pythonhosted.org/packages/99/d1/803c7a387d8a7e6866160b1541307f88d534da4291572fb32f69d2548afb/deap-1.3.1-cp37-cp37m-manylinux2010_x86_64.whl (157kB)\n",
            "\r\u001b[K     |██                              | 10kB 10.4MB/s eta 0:00:01\r\u001b[K     |████▏                           | 20kB 15.5MB/s eta 0:00:01\r\u001b[K     |██████▏                         | 30kB 11.1MB/s eta 0:00:01\r\u001b[K     |████████▎                       | 40kB 8.7MB/s eta 0:00:01\r\u001b[K     |██████████▍                     | 51kB 5.2MB/s eta 0:00:01\r\u001b[K     |████████████▍                   | 61kB 5.4MB/s eta 0:00:01\r\u001b[K     |██████████████▌                 | 71kB 5.9MB/s eta 0:00:01\r\u001b[K     |████████████████▋               | 81kB 6.2MB/s eta 0:00:01\r\u001b[K     |██████████████████▋             | 92kB 6.1MB/s eta 0:00:01\r\u001b[K     |████████████████████▊           | 102kB 6.6MB/s eta 0:00:01\r\u001b[K     |██████████████████████▉         | 112kB 6.6MB/s eta 0:00:01\r\u001b[K     |████████████████████████▉       | 122kB 6.6MB/s eta 0:00:01\r\u001b[K     |███████████████████████████     | 133kB 6.6MB/s eta 0:00:01\r\u001b[K     |█████████████████████████████   | 143kB 6.6MB/s eta 0:00:01\r\u001b[K     |███████████████████████████████ | 153kB 6.6MB/s eta 0:00:01\r\u001b[K     |████████████████████████████████| 163kB 6.6MB/s \n",
            "\u001b[?25hRequirement already satisfied: numpy in /usr/local/lib/python3.7/dist-packages (from deap) (1.19.5)\n",
            "Installing collected packages: deap\n",
            "Successfully installed deap-1.3.1\n"
          ],
          "name": "stdout"
        }
      ]
    },
    {
      "cell_type": "code",
      "metadata": {
        "colab": {
          "base_uri": "https://localhost:8080/"
        },
        "id": "FNha6TeEK7hu",
        "outputId": "be09e23d-164f-4eb8-cb3d-03607df9a747"
      },
      "source": [
        "!pip install bitstring"
      ],
      "execution_count": 2,
      "outputs": [
        {
          "output_type": "stream",
          "text": [
            "Collecting bitstring\n",
            "\u001b[?25l  Downloading https://files.pythonhosted.org/packages/c3/fc/ffac2c199d2efe1ec5111f55efeb78f5f2972456df6939fea849f103f9f5/bitstring-3.1.7.tar.gz (195kB)\n",
            "\r\u001b[K     |█▊                              | 10kB 11.5MB/s eta 0:00:01\r\u001b[K     |███▍                            | 20kB 15.4MB/s eta 0:00:01\r\u001b[K     |█████                           | 30kB 12.3MB/s eta 0:00:01\r\u001b[K     |██████▊                         | 40kB 9.4MB/s eta 0:00:01\r\u001b[K     |████████▍                       | 51kB 5.4MB/s eta 0:00:01\r\u001b[K     |██████████                      | 61kB 5.1MB/s eta 0:00:01\r\u001b[K     |███████████▊                    | 71kB 5.7MB/s eta 0:00:01\r\u001b[K     |█████████████▍                  | 81kB 6.1MB/s eta 0:00:01\r\u001b[K     |███████████████                 | 92kB 6.6MB/s eta 0:00:01\r\u001b[K     |████████████████▊               | 102kB 6.9MB/s eta 0:00:01\r\u001b[K     |██████████████████▍             | 112kB 6.9MB/s eta 0:00:01\r\u001b[K     |████████████████████            | 122kB 6.9MB/s eta 0:00:01\r\u001b[K     |█████████████████████▊          | 133kB 6.9MB/s eta 0:00:01\r\u001b[K     |███████████████████████▍        | 143kB 6.9MB/s eta 0:00:01\r\u001b[K     |█████████████████████████       | 153kB 6.9MB/s eta 0:00:01\r\u001b[K     |██████████████████████████▉     | 163kB 6.9MB/s eta 0:00:01\r\u001b[K     |████████████████████████████▌   | 174kB 6.9MB/s eta 0:00:01\r\u001b[K     |██████████████████████████████▏ | 184kB 6.9MB/s eta 0:00:01\r\u001b[K     |███████████████████████████████▉| 194kB 6.9MB/s eta 0:00:01\r\u001b[K     |████████████████████████████████| 204kB 6.9MB/s \n",
            "\u001b[?25hBuilding wheels for collected packages: bitstring\n",
            "  Building wheel for bitstring (setup.py) ... \u001b[?25l\u001b[?25hdone\n",
            "  Created wheel for bitstring: filename=bitstring-3.1.7-cp37-none-any.whl size=37949 sha256=ccb2940a2106efaedf97103bcc7eb902dfa63e84caca6a2175a58d49ea82525a\n",
            "  Stored in directory: /root/.cache/pip/wheels/b8/27/f0/8373e26b7de57db03dc18aaaebdd8c26a99da882416f762979\n",
            "Successfully built bitstring\n",
            "Installing collected packages: bitstring\n",
            "Successfully installed bitstring-3.1.7\n"
          ],
          "name": "stdout"
        }
      ]
    },
    {
      "cell_type": "code",
      "metadata": {
        "id": "mFMwDjwdJ__m"
      },
      "source": [
        "import numpy as np\n",
        "import pandas as pd\n",
        "from sklearn.metrics import mean_squared_error\n",
        "from sklearn.model_selection import train_test_split as split\n",
        "\n",
        "from keras.layers import LSTM, Input, Dense\n",
        "from keras.models import Model\n",
        "\n",
        "from deap import base, creator, tools, algorithms\n",
        "from scipy.stats import bernoulli\n",
        "from bitstring import BitArray\n",
        "\n",
        "np.random.seed(1120)"
      ],
      "execution_count": 3,
      "outputs": []
    },
    {
      "cell_type": "code",
      "metadata": {
        "colab": {
          "base_uri": "https://localhost:8080/"
        },
        "id": "do6U7XTGKCd6",
        "outputId": "5b4add1a-4e4a-4e97-eac3-8985416e9d65"
      },
      "source": [
        "data = pd.read_csv('https://raw.githubusercontent.com/gmfv/Prediccion_Temperatura_IA/main/temperatura.csv')\n",
        "data = data[52464:]\n",
        "data[\"Temperatura Asuncion\"]"
      ],
      "execution_count": 4,
      "outputs": [
        {
          "output_type": "execute_result",
          "data": {
            "text/plain": [
              "52464    22.9\n",
              "52465    22.1\n",
              "52466    22.3\n",
              "52467    22.5\n",
              "52468    22.7\n",
              "         ... \n",
              "78691    34.6\n",
              "78692    35.1\n",
              "78693    34.6\n",
              "78694    34.6\n",
              "78695    31.2\n",
              "Name: Temperatura Asuncion, Length: 26232, dtype: float64"
            ]
          },
          "metadata": {
            "tags": []
          },
          "execution_count": 4
        }
      ]
    },
    {
      "cell_type": "code",
      "metadata": {
        "id": "isE_blPJLBdE"
      },
      "source": [
        "data = np.reshape(np.array(data['Temperatura Asuncion']),(len(data['Temperatura Asuncion']),1))\n",
        "\n",
        "# Use first 21000 points as training/validation and rest of the 5232 points as test set.\n",
        "train_data = data[0:21000]\n",
        "test_data = data[21000:]"
      ],
      "execution_count": 5,
      "outputs": []
    },
    {
      "cell_type": "code",
      "metadata": {
        "id": "VjC3d3QnKStS"
      },
      "source": [
        "def prepare_dataset(data, window_size):\n",
        "    X, Y = np.empty((0,window_size)), np.empty((0))\n",
        "    for i in range(len(data)-window_size-1):\n",
        "        X = np.vstack([X,data[i:(i + window_size),0]])\n",
        "        Y = np.append(Y,data[i + window_size,0])   \n",
        "    X = np.reshape(X,(len(X),window_size,1))\n",
        "    Y = np.reshape(Y,(len(Y),1))\n",
        "    return X, Y\n",
        "\n",
        "def train_evaluate(ga_individual_solution):   \n",
        "    # Decode GA solution to integer for window_size and num_units\n",
        "    window_size_bits = BitArray(ga_individual_solution[0:6])\n",
        "    num_units_bits = BitArray(ga_individual_solution[6:]) \n",
        "    window_size = window_size_bits.uint\n",
        "    num_units = num_units_bits.uint\n",
        "    print('\\nWindow Size: ', window_size, ', Num of Units: ', num_units)\n",
        "    \n",
        "    # Return fitness score of 100 if window_size or num_unit is zero\n",
        "    if window_size == 0 or num_units == 0:\n",
        "        return 100, \n",
        "    \n",
        "    # Segment the train_data based on new window_size; split into train and validation (80/20)\n",
        "    X,Y = prepare_dataset(train_data,window_size)\n",
        "    X_train, X_val, y_train, y_val = split(X, Y, test_size = 0.20, random_state = 1120)\n",
        "    \n",
        "    # Train LSTM model and predict on validation set\n",
        "    inputs = Input(shape=(window_size,1))\n",
        "    x = LSTM(num_units, input_shape=(window_size,1))(inputs)\n",
        "    predictions = Dense(1, activation='linear')(x)\n",
        "    model = Model(inputs=inputs, outputs=predictions)\n",
        "    model.compile(optimizer='adam',loss='mean_squared_error')\n",
        "    model.fit(X_train, y_train, epochs=5, batch_size=10,shuffle=True)\n",
        "    y_pred = model.predict(X_val)\n",
        "    \n",
        "    # Calculate the RMSE score as fitness score for GA\n",
        "    rmse = np.sqrt(mean_squared_error(y_val, y_pred))\n",
        "    print('Validation RMSE: ', rmse,'\\n')\n",
        "    \n",
        "    return rmse,"
      ],
      "execution_count": 6,
      "outputs": []
    },
    {
      "cell_type": "code",
      "metadata": {
        "colab": {
          "base_uri": "https://localhost:8080/"
        },
        "id": "kHsGQfpRKTev",
        "outputId": "e39ed455-6b4f-46f3-abba-f2396d546068"
      },
      "source": [
        "population_size = 4\n",
        "num_generations = 4\n",
        "gene_length = 10\n",
        "\n",
        "creator.create('FitnessMax', base.Fitness, weights = (1.0,))\n",
        "creator.create('Individual', list , fitness = creator.FitnessMax)\n",
        "\n",
        "toolbox = base.Toolbox()\n",
        "toolbox.register('binary', bernoulli.rvs, 0.5)\n",
        "toolbox.register('individual', tools.initRepeat, creator.Individual, toolbox.binary, \n",
        "n = gene_length)\n",
        "toolbox.register('population', tools.initRepeat, list , toolbox.individual)\n",
        "\n",
        "toolbox.register('mate', tools.cxOrdered)\n",
        "toolbox.register('mutate', tools.mutShuffleIndexes, indpb = 0.6)\n",
        "toolbox.register('select', tools.selRoulette)\n",
        "toolbox.register('evaluate', train_evaluate)\n",
        "\n",
        "population = toolbox.population(n = population_size)\n",
        "#population = lista de individuos; cxpb probabilidad de aparear dos individuos; mutpb probabilidad de mutar un individuo;  ngen numero de generaciones; \n",
        "r = algorithms.eaSimple(population, toolbox, cxpb = 0.4, mutpb = 0.1, \n",
        "ngen = num_generations, verbose = False)"
      ],
      "execution_count": 7,
      "outputs": [
        {
          "output_type": "stream",
          "text": [
            "\n",
            "Window Size:  36 , Num of Units:  2\n",
            "Epoch 1/5\n",
            "1677/1677 [==============================] - 32s 8ms/step - loss: 498.7895\n",
            "Epoch 2/5\n",
            "1677/1677 [==============================] - 14s 8ms/step - loss: 301.5050\n",
            "Epoch 3/5\n",
            "1677/1677 [==============================] - 14s 8ms/step - loss: 178.4548\n",
            "Epoch 4/5\n",
            "1677/1677 [==============================] - 14s 8ms/step - loss: 99.3658\n",
            "Epoch 5/5\n",
            "1677/1677 [==============================] - 14s 8ms/step - loss: 50.6235\n",
            "Validation RMSE:  5.2782477460062 \n",
            "\n",
            "\n",
            "Window Size:  56 , Num of Units:  8\n",
            "Epoch 1/5\n",
            "1676/1676 [==============================] - 35s 19ms/step - loss: 395.0560\n",
            "Epoch 2/5\n",
            "1676/1676 [==============================] - 32s 19ms/step - loss: 62.2900\n",
            "Epoch 3/5\n",
            "1676/1676 [==============================] - 32s 19ms/step - loss: 12.3243\n",
            "Epoch 4/5\n",
            "1676/1676 [==============================] - 32s 19ms/step - loss: 3.9647\n",
            "Epoch 5/5\n",
            "1676/1676 [==============================] - 33s 20ms/step - loss: 2.1185\n",
            "Validation RMSE:  1.2423201974540299 \n",
            "\n",
            "\n",
            "Window Size:  60 , Num of Units:  9\n",
            "Epoch 1/5\n",
            "1676/1676 [==============================] - 36s 20ms/step - loss: 347.3950\n",
            "Epoch 2/5\n",
            "1676/1676 [==============================] - 34s 20ms/step - loss: 53.9228\n",
            "Epoch 3/5\n",
            "1676/1676 [==============================] - 33s 20ms/step - loss: 11.8132\n",
            "Epoch 4/5\n",
            "1676/1676 [==============================] - 34s 20ms/step - loss: 3.8307\n",
            "Epoch 5/5\n",
            "1676/1676 [==============================] - 34s 20ms/step - loss: 1.9464\n",
            "Validation RMSE:  1.2167441835852582 \n",
            "\n",
            "\n",
            "Window Size:  49 , Num of Units:  9\n",
            "Epoch 1/5\n",
            "1676/1676 [==============================] - 20s 11ms/step - loss: 306.3488\n",
            "Epoch 2/5\n",
            "1676/1676 [==============================] - 18s 11ms/step - loss: 43.0673\n",
            "Epoch 3/5\n",
            "1676/1676 [==============================] - 19s 11ms/step - loss: 9.1123\n",
            "Epoch 4/5\n",
            "1676/1676 [==============================] - 19s 11ms/step - loss: 3.0402\n",
            "Epoch 5/5\n",
            "1676/1676 [==============================] - 18s 11ms/step - loss: 1.6861\n",
            "Validation RMSE:  1.2429595415885284 \n",
            "\n",
            "\n",
            "Window Size:  36 , Num of Units:  2\n",
            "Epoch 1/5\n",
            "1677/1677 [==============================] - 16s 8ms/step - loss: 512.8768\n",
            "Epoch 2/5\n",
            "1677/1677 [==============================] - 15s 9ms/step - loss: 313.1439\n",
            "Epoch 3/5\n",
            "1677/1677 [==============================] - 14s 8ms/step - loss: 188.0850\n",
            "Epoch 4/5\n",
            "1677/1677 [==============================] - 14s 8ms/step - loss: 105.9204\n",
            "Epoch 5/5\n",
            "1677/1677 [==============================] - 14s 8ms/step - loss: 56.3341\n",
            "Validation RMSE:  5.64974790314491 \n",
            "\n",
            "\n",
            "Window Size:  36 , Num of Units:  2\n",
            "Epoch 1/5\n",
            "1677/1677 [==============================] - 15s 8ms/step - loss: 618.3393\n",
            "Epoch 2/5\n",
            "1677/1677 [==============================] - 14s 9ms/step - loss: 515.3507\n",
            "Epoch 3/5\n",
            "1677/1677 [==============================] - 14s 8ms/step - loss: 449.7704\n",
            "Epoch 4/5\n",
            "1677/1677 [==============================] - 14s 8ms/step - loss: 383.3552\n",
            "Epoch 5/5\n",
            "1677/1677 [==============================] - 14s 8ms/step - loss: 333.0759\n",
            "Validation RMSE:  17.00509353970514 \n",
            "\n",
            "\n",
            "Window Size:  36 , Num of Units:  2\n",
            "Epoch 1/5\n",
            "1677/1677 [==============================] - 16s 8ms/step - loss: 529.8151\n",
            "Epoch 2/5\n",
            "1677/1677 [==============================] - 14s 8ms/step - loss: 333.3576\n",
            "Epoch 3/5\n",
            "1677/1677 [==============================] - 14s 8ms/step - loss: 205.3930\n",
            "Epoch 4/5\n",
            "1677/1677 [==============================] - 14s 8ms/step - loss: 116.2454\n",
            "Epoch 5/5\n",
            "1677/1677 [==============================] - 14s 8ms/step - loss: 60.3943\n",
            "Validation RMSE:  5.8636129047487096 \n",
            "\n",
            "\n",
            "Window Size:  36 , Num of Units:  2\n",
            "Epoch 1/5\n",
            "1677/1677 [==============================] - 16s 8ms/step - loss: 586.4349\n",
            "Epoch 2/5\n",
            "1677/1677 [==============================] - 14s 8ms/step - loss: 434.0785\n",
            "Epoch 3/5\n",
            "1677/1677 [==============================] - 14s 9ms/step - loss: 314.8915\n",
            "Epoch 4/5\n",
            "1677/1677 [==============================] - 14s 8ms/step - loss: 226.3340\n",
            "Epoch 5/5\n",
            "1677/1677 [==============================] - 14s 8ms/step - loss: 154.0870\n",
            "Validation RMSE:  10.565832361536632 \n",
            "\n"
          ],
          "name": "stdout"
        }
      ]
    },
    {
      "cell_type": "code",
      "metadata": {
        "colab": {
          "base_uri": "https://localhost:8080/"
        },
        "id": "tqUM1RgqKXiR",
        "outputId": "b8089ce3-a0ed-4dd6-f0f7-ae0380050650"
      },
      "source": [
        "# Print top N solutions - (1st only, for now)\n",
        "best_individuals = tools.selBest(population,k = 1)\n",
        "best_window_size = None\n",
        "best_num_units = None\n",
        "\n",
        "for bi in best_individuals:\n",
        "    window_size_bits = BitArray(bi[0:6])\n",
        "    num_units_bits = BitArray(bi[6:]) \n",
        "    best_window_size = window_size_bits.uint\n",
        "    best_num_units = num_units_bits.uint\n",
        "    print('\\nWindow Size: ', best_window_size, ', Num of Units: ', best_num_units)"
      ],
      "execution_count": 8,
      "outputs": [
        {
          "output_type": "stream",
          "text": [
            "\n",
            "Window Size:  36 , Num of Units:  2\n"
          ],
          "name": "stdout"
        }
      ]
    },
    {
      "cell_type": "code",
      "metadata": {
        "colab": {
          "base_uri": "https://localhost:8080/"
        },
        "id": "ZKcqTTGqKbss",
        "outputId": "bf697510-7c12-46a3-8c24-1ab731493910"
      },
      "source": [
        "# Train the model using best configuration on complete training set \n",
        "#and make predictions on the test set\n",
        "X_train,y_train = prepare_dataset(train_data,best_window_size)\n",
        "X_test, y_test = prepare_dataset(test_data,best_window_size)\n",
        "\n",
        "inputs = Input(shape=(best_window_size,1))\n",
        "x = LSTM(best_num_units, input_shape=(best_window_size,1))(inputs)\n",
        "predictions = Dense(1, activation='linear')(x)\n",
        "model = Model(inputs = inputs, outputs = predictions)\n",
        "model.compile(optimizer='adam',loss='mean_squared_error')\n",
        "model.fit(X_train, y_train, epochs=5, batch_size=10,shuffle=True)\n",
        "y_pred = model.predict(X_test)\n",
        "\n",
        "rmse = np.sqrt(mean_squared_error(y_test, y_pred))\n",
        "print('Test RMSE: ', rmse)"
      ],
      "execution_count": 9,
      "outputs": [
        {
          "output_type": "stream",
          "text": [
            "Epoch 1/5\n",
            "2097/2097 [==============================] - 29s 13ms/step - loss: 552.7056\n",
            "Epoch 2/5\n",
            "2097/2097 [==============================] - 26s 13ms/step - loss: 263.2271\n",
            "Epoch 3/5\n",
            "2097/2097 [==============================] - 27s 13ms/step - loss: 131.5785\n",
            "Epoch 4/5\n",
            "2097/2097 [==============================] - 27s 13ms/step - loss: 61.7101\n",
            "Epoch 5/5\n",
            "2097/2097 [==============================] - 27s 13ms/step - loss: 26.5899\n",
            "Test RMSE:  3.600096318966019\n"
          ],
          "name": "stdout"
        }
      ]
    },
    {
      "cell_type": "code",
      "metadata": {
        "colab": {
          "base_uri": "https://localhost:8080/",
          "height": 560
        },
        "id": "ZK-c5PWLUQ6J",
        "outputId": "328b246b-c949-480a-881a-d14ad196b5f8"
      },
      "source": [
        "from matplotlib import pyplot as plt\n",
        "plt.title(\"Predicciones\") \n",
        "plt.xlabel(\"Tiempo\") \n",
        "plt.ylabel(\"Temperatura\") \n",
        "plt.plot(y_pred)\n",
        "plt.show() \n",
        "plt.plot(y_test)"
      ],
      "execution_count": 10,
      "outputs": [
        {
          "output_type": "display_data",
          "data": {
            "image/png": "[encoded data removed]",
            "text/plain": [
              "<Figure size 432x288 with 1 Axes>"
            ]
          },
          "metadata": {
            "tags": [],
            "needs_background": "light"
          }
        },
        {
          "output_type": "execute_result",
          "data": {
            "text/plain": [
              "[<matplotlib.lines.Line2D at 0x7fe595b00d50>]"
            ]
          },
          "metadata": {
            "tags": []
          },
          "execution_count": 10
        },
        {
          "output_type": "display_data",
          "data": {
            "image/png": "[encoded data removed]",
            "text/plain": [
              "<Figure size 432x288 with 1 Axes>"
            ]
          },
          "metadata": {
            "tags": [],
            "needs_background": "light"
          }
        }
      ]
    }
  ]
}